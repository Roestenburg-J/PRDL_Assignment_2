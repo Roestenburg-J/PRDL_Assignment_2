{
  "cells": [
    {
      "cell_type": "code",
      "execution_count": 51,
      "metadata": {
        "id": "NTjtRYkxL447"
      },
      "outputs": [
        {
          "name": "stdout",
          "output_type": "stream",
          "text": [
            "No env_vars file found. Using default values. Make a \"env_vars.py\" file to change them.\n"
          ]
        }
      ],
      "source": [
        "import h5py\n",
        "from sklearn.preprocessing import MinMaxScaler\n",
        "import pandas as pd\n",
        "import matplotlib.pyplot as plt\n",
        "import numpy as np\n",
        "import os\n",
        "\n",
        "# Locally get vars to accommodate different environments\n",
        "try:\n",
        "    from env_vars import *\n",
        "except:\n",
        "    print(\n",
        "        'No env_vars file found. Using default values. Make a \"env_vars.py\" file to change them.'\n",
        "    )\n",
        "    intra_train_path = \"./data/Cross/train/\"\n",
        "    intra_test_path = \"./data/Cross/test1/\""
      ]
    },
    {
      "cell_type": "code",
      "execution_count": 52,
      "metadata": {
        "colab": {
          "base_uri": "https://localhost:8080/"
        },
        "id": "zLJacqmIQHq3",
        "outputId": "c39fec2f-d9ed-45e6-cf0c-319f9d138161"
      },
      "outputs": [],
      "source": [
        "# from google.colab import drive\n",
        "\n",
        "# drive.mount(\"/content/gdrive\")"
      ]
    },
    {
      "cell_type": "code",
      "execution_count": 53,
      "metadata": {
        "id": "5ltmaALlL449"
      },
      "outputs": [],
      "source": [
        "# Used to get the name of the dataset, and by extension, the label of the action being performed\n",
        "def getdatasetname(file_name_with_dir):\n",
        "    filename_without_dir = file_name_with_dir.split(\"/\")[-1]\n",
        "\n",
        "    temp = filename_without_dir.split(\"_\")[:-1]\n",
        "\n",
        "    datasetname = \"_\".join(temp)\n",
        "\n",
        "    return datasetname"
      ]
    },
    {
      "cell_type": "code",
      "execution_count": 54,
      "metadata": {
        "id": "rk_y7Ak6L449"
      },
      "outputs": [],
      "source": [
        "# Used to get the labels of data using filenames\n",
        "def get_label(filename):\n",
        "    if \"rest\" in filename:\n",
        "        label = 0\n",
        "\n",
        "    elif \"math\" in filename:\n",
        "        label = 1\n",
        "\n",
        "    elif \"memory\" in filename:\n",
        "        label = 2\n",
        "    elif \"motor\" in filename:\n",
        "        label = 3\n",
        "\n",
        "    return label"
      ]
    },
    {
      "cell_type": "code",
      "execution_count": 55,
      "metadata": {
        "id": "CqLPp7xKL44_"
      },
      "outputs": [],
      "source": [
        "def get_all_matrices(dir_path):\n",
        "    dataset = []\n",
        "    labels = []\n",
        "    for filename in os.listdir(dir_path):\n",
        "        if filename.endswith(\".h5\"):\n",
        "            filename_path = dir_path + filename\n",
        "            with h5py.File(filename_path, \"r\") as f:\n",
        "                dataset_name = getdatasetname(filename_path)\n",
        "                label = get_label(filename)\n",
        "                matrix = f.get(dataset_name)[()]\n",
        "                dataset.append(matrix)\n",
        "                labels.append(label)\n",
        "\n",
        "    return dataset, labels"
      ]
    },
    {
      "cell_type": "markdown",
      "metadata": {},
      "source": [
        "MinMax Scaling for sensor data\n"
      ]
    },
    {
      "cell_type": "code",
      "execution_count": 56,
      "metadata": {
        "id": "x0KQT9KkL45A"
      },
      "outputs": [],
      "source": [
        "def scale(matrix):\n",
        "    scaler = MinMaxScaler(feature_range=(0, 1))\n",
        "\n",
        "    scaler.fit(matrix)\n",
        "\n",
        "    scaled_data = scaler.transform(matrix)\n",
        "\n",
        "    return scaled_data"
      ]
    },
    {
      "cell_type": "markdown",
      "metadata": {},
      "source": [
        "Downsampling of data, refer to file called \"Notebook.ipynb\" to see how it works\n"
      ]
    },
    {
      "cell_type": "code",
      "execution_count": 57,
      "metadata": {
        "id": "UbSawgmiL45A"
      },
      "outputs": [],
      "source": [
        "def downsample(dataset, frequency):\n",
        "    downsampled_dataset = []\n",
        "\n",
        "    for i in range(0, dataset.shape[1], 2034):\n",
        "        second = dataset[:, i : i + 2034]\n",
        "        subsample = []\n",
        "\n",
        "        for j in range(0, 2034, int(2034 / frequency)):\n",
        "            if j < second.shape[1]:\n",
        "                measurement = second[:, j]\n",
        "                subsample.append(measurement)\n",
        "\n",
        "        downsampled_dataset.extend(subsample)\n",
        "\n",
        "    return np.array(downsampled_dataset).T"
      ]
    },
    {
      "cell_type": "markdown",
      "metadata": {
        "id": "bYd4BFYML45D"
      },
      "source": [
        "Model setup\n"
      ]
    },
    {
      "cell_type": "code",
      "execution_count": 58,
      "metadata": {
        "colab": {
          "base_uri": "https://localhost:8080/"
        },
        "id": "o-L0I5MdL45E",
        "outputId": "dca14458-a292-486a-ee93-0eacd90dc6a4"
      },
      "outputs": [
        {
          "name": "stdout",
          "output_type": "stream",
          "text": [
            "2.15.0\n"
          ]
        }
      ],
      "source": [
        "# TensorFlow and tf.keras\n",
        "import tensorflow as tf\n",
        "\n",
        "print(tf.__version__)"
      ]
    },
    {
      "cell_type": "code",
      "execution_count": 59,
      "metadata": {
        "id": "N6LJwavfYyf7"
      },
      "outputs": [],
      "source": [
        "def load_data(dir_path):\n",
        "    data = []\n",
        "    labels = []\n",
        "\n",
        "    for filename in os.listdir(dir_path):\n",
        "        if filename.endswith(\".h5\"):\n",
        "            filename_path = os.path.join(dir_path, filename)\n",
        "            with h5py.File(filename_path, \"r\") as f:\n",
        "                dataset_name = getdatasetname(filename_path)\n",
        "                label = get_label(filename)\n",
        "                matrix = f.get(dataset_name)[()]\n",
        "\n",
        "                train_meg = downsample(matrix, 113)\n",
        "                train_meg = scale(train_meg)\n",
        "                # flattened_meg = np.array(\n",
        "                #     train_meg.flatten()\n",
        "                # )  # The data is flattened to change the meg data from shape 248 x frequency to a 1D array (result: a lot of inupt params)\n",
        "\n",
        "                data.append(train_meg)\n",
        "                labels.append(label)\n",
        "\n",
        "    return np.array(data), np.array(labels)"
      ]
    },
    {
      "cell_type": "markdown",
      "metadata": {},
      "source": [
        "All training data is loaded into memory and fitted to the model along with the training lables\n"
      ]
    },
    {
      "cell_type": "code",
      "execution_count": 60,
      "metadata": {},
      "outputs": [],
      "source": [
        "X_train, y_train = load_data(intra_train_path)"
      ]
    },
    {
      "cell_type": "code",
      "execution_count": 61,
      "metadata": {},
      "outputs": [
        {
          "name": "stdout",
          "output_type": "stream",
          "text": [
            "(64, 248, 17812)\n",
            "(64,)\n"
          ]
        }
      ],
      "source": [
        "print(X_train.shape)\n",
        "print(y_train.shape)"
      ]
    },
    {
      "cell_type": "code",
      "execution_count": 62,
      "metadata": {},
      "outputs": [],
      "source": [
        "model = tf.keras.Sequential(\n",
        "    [\n",
        "        tf.keras.layers.Conv1D(\n",
        "            32,\n",
        "            kernel_size=3,\n",
        "            activation=\"relu\",\n",
        "            input_shape=(X_train.shape[1], X_train.shape[2]),\n",
        "        ),\n",
        "        tf.keras.layers.MaxPooling1D(pool_size=2),\n",
        "        # tf.keras.layers.Dense(128),\n",
        "        tf.keras.layers.LSTM(\n",
        "            248, return_sequences=True\n",
        "        ),  # Adjust the number of LSTM units\n",
        "        tf.keras.layers.LSTM(64),\n",
        "        tf.keras.layers.Dense(4),\n",
        "    ]\n",
        ")"
      ]
    },
    {
      "cell_type": "code",
      "execution_count": 63,
      "metadata": {},
      "outputs": [],
      "source": [
        "model.compile(\n",
        "    optimizer=\"adam\",\n",
        "    loss=tf.keras.losses.SparseCategoricalCrossentropy(from_logits=True),\n",
        "    metrics=[\"accuracy\"],\n",
        ")"
      ]
    },
    {
      "cell_type": "code",
      "execution_count": 64,
      "metadata": {},
      "outputs": [
        {
          "name": "stdout",
          "output_type": "stream",
          "text": [
            "Epoch 1/10\n",
            "2/2 [==============================] - 22s 2s/step - loss: 1.6112 - accuracy: 0.2969\n",
            "Epoch 2/10\n",
            "2/2 [==============================] - 2s 1s/step - loss: 1.4925 - accuracy: 0.2031\n",
            "Epoch 3/10\n",
            "2/2 [==============================] - 3s 2s/step - loss: 1.3657 - accuracy: 0.2500\n",
            "Epoch 4/10\n",
            "2/2 [==============================] - 3s 1s/step - loss: 1.3473 - accuracy: 0.3906\n",
            "Epoch 5/10\n",
            "2/2 [==============================] - 2s 1s/step - loss: 1.3393 - accuracy: 0.2969\n",
            "Epoch 6/10\n",
            "2/2 [==============================] - 2s 1s/step - loss: 1.2844 - accuracy: 0.5000\n",
            "Epoch 7/10\n",
            "2/2 [==============================] - 3s 1s/step - loss: 1.1955 - accuracy: 0.5000\n",
            "Epoch 8/10\n",
            "2/2 [==============================] - 2s 1s/step - loss: 1.2950 - accuracy: 0.3906\n",
            "Epoch 9/10\n",
            "2/2 [==============================] - 2s 1s/step - loss: 1.1557 - accuracy: 0.5000\n",
            "Epoch 10/10\n",
            "2/2 [==============================] - 2s 1s/step - loss: 1.2687 - accuracy: 0.3750\n"
          ]
        },
        {
          "data": {
            "text/plain": [
              "<keras.src.callbacks.History at 0x2138c79dbd0>"
            ]
          },
          "execution_count": 64,
          "metadata": {},
          "output_type": "execute_result"
        }
      ],
      "source": [
        "model.fit(X_train, y_train, epochs=10, batch_size=32)"
      ]
    },
    {
      "cell_type": "code",
      "execution_count": 65,
      "metadata": {},
      "outputs": [],
      "source": [
        "X_test, y_test = load_data(intra_test_path)"
      ]
    },
    {
      "cell_type": "code",
      "execution_count": 66,
      "metadata": {
        "colab": {
          "base_uri": "https://localhost:8080/"
        },
        "id": "-gM8GXJeTlxx",
        "outputId": "db17792a-fff6-4510-c422-9603695b0547"
      },
      "outputs": [
        {
          "name": "stdout",
          "output_type": "stream",
          "text": [
            "1/1 - 7s - loss: 1.1201 - accuracy: 0.5000 - 7s/epoch - 7s/step\n",
            "\n",
            "Test accuracy: 0.5\n"
          ]
        }
      ],
      "source": [
        "test_loss, test_acc = model.evaluate(X_test, y_test, verbose=2)\n",
        "\n",
        "print(\"\\nTest accuracy:\", test_acc)"
      ]
    }
  ],
  "metadata": {
    "colab": {
      "provenance": []
    },
    "kernelspec": {
      "display_name": "base",
      "language": "python",
      "name": "python3"
    },
    "language_info": {
      "codemirror_mode": {
        "name": "ipython",
        "version": 3
      },
      "file_extension": ".py",
      "mimetype": "text/x-python",
      "name": "python",
      "nbconvert_exporter": "python",
      "pygments_lexer": "ipython3",
      "version": "3.11.5"
    }
  },
  "nbformat": 4,
  "nbformat_minor": 0
}
