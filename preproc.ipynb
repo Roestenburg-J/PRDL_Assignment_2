{
 "cells": [
  {
   "cell_type": "code",
   "execution_count": 8,
   "metadata": {},
   "outputs": [
    {
     "name": "stdout",
     "output_type": "stream",
     "text": [
      "<class 'numpy.ndarray'>\n",
      "(248, 35624)\n",
      "[[0.75709679 0.75655099 0.75461831 ... 0.75787271 0.75722762 0.76213064]\n",
      " [0.57519353 0.56595376 0.55152292 ... 0.48226206 0.48329766 0.48382933]\n",
      " [0.76639813 0.76220723 0.75976352 ... 0.73835103 0.73913462 0.74171893]\n",
      " ...\n",
      " [0.78054736 0.78005406 0.77447601 ... 0.78332417 0.77990748 0.78139679]\n",
      " [0.5291242  0.52498386 0.51793955 ... 0.47161298 0.46912766 0.47366007]\n",
      " [0.49634087 0.48903129 0.47857    ... 0.5523971  0.55285888 0.55528368]]\n"
     ]
    }
   ],
   "source": [
    "from sklearn.preprocessing import MinMaxScaler\n",
    "import h5py\n",
    "import numpy\n",
    "\n",
    "def get_dataset_name(file_name_with_dir):\n",
    "    file_name_without_dir = file_name_with_dir.split('/')[-1]\n",
    "    temp = file_name_without_dir.split('_')[:-1]\n",
    "    dataset_name = \"_\".join(temp)\n",
    "    return dataset_name\n",
    "\n",
    "#replace with local path\n",
    "filename_path = \"data/pdata/Intra/train/rest_105923_1.h5\"\n",
    "with h5py.File(filename_path, 'r') as f:\n",
    "    dataset_name = get_dataset_name(filename_path)\n",
    "    matrix = f.get(dataset_name)[()]\n",
    "    print(type(matrix))\n",
    "    print(matrix.shape) \n",
    "\n",
    "scaler = MinMaxScaler(feature_range=(0, 1))\n",
    "scaler.fit(matrix)\n",
    "scaled_data = scaler.transform(matrix)\n",
    "print(scaled_data)\n",
    "\n"
   ]
  }
 ],
 "metadata": {
  "kernelspec": {
   "display_name": "Python 3",
   "language": "python",
   "name": "python3"
  },
  "language_info": {
   "codemirror_mode": {
    "name": "ipython",
    "version": 3
   },
   "file_extension": ".py",
   "mimetype": "text/x-python",
   "name": "python",
   "nbconvert_exporter": "python",
   "pygments_lexer": "ipython3",
   "version": "3.10.0"
  }
 },
 "nbformat": 4,
 "nbformat_minor": 2
}
