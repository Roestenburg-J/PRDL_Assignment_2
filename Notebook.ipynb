{
 "cells": [
  {
   "cell_type": "code",
   "execution_count": 210,
   "metadata": {},
   "outputs": [],
   "source": [
    "import h5py\n",
    "from sklearn.preprocessing import MinMaxScaler\n",
    "import pandas as pd\n",
    "import matplotlib.pyplot as plt\n",
    "import numpy as np"
   ]
  },
  {
   "cell_type": "code",
   "execution_count": 211,
   "metadata": {},
   "outputs": [],
   "source": [
    "def getdatasetname(file_name_with_dir):\n",
    "    filename_without_dir = file_name_with_dir.split(\"/\")[-1]\n",
    "    temp = filename_without_dir.split(\"_\")[:-1]\n",
    "    datasetname = \"_\".join(temp)\n",
    "    return datasetname"
   ]
  },
  {
   "cell_type": "code",
   "execution_count": null,
   "metadata": {},
   "outputs": [],
   "source": []
  },
  {
   "cell_type": "code",
   "execution_count": 212,
   "metadata": {},
   "outputs": [
    {
     "name": "stdout",
     "output_type": "stream",
     "text": [
      "<class 'numpy.ndarray'>\n",
      "(248, 35624)\n"
     ]
    }
   ],
   "source": [
    "filename_path = \"./data/Intra/train/rest_105923_1.h5\"\n",
    "with h5py.File(filename_path, \"r\") as f:\n",
    "    dataset_name = getdatasetname(filename_path)\n",
    "    matrix = f.get(dataset_name)[()]\n",
    "    print(type(matrix))\n",
    "    print(matrix.shape)"
   ]
  },
  {
   "cell_type": "code",
   "execution_count": 213,
   "metadata": {},
   "outputs": [
    {
     "name": "stdout",
     "output_type": "stream",
     "text": [
      "(248, 35624)\n"
     ]
    }
   ],
   "source": [
    "scaler = MinMaxScaler(feature_range=(0, 1))\n",
    "scaler.fit(matrix)\n",
    "scaled_data = scaler.transform(matrix)\n",
    "print(scaled_data.shape)"
   ]
  },
  {
   "cell_type": "markdown",
   "metadata": {},
   "source": [
    "Downsampling\n"
   ]
  },
  {
   "cell_type": "code",
   "execution_count": 214,
   "metadata": {},
   "outputs": [
    {
     "name": "stdout",
     "output_type": "stream",
     "text": [
      "17.514257620452312\n"
     ]
    }
   ],
   "source": [
    "print(scaled_data.shape[1] / 2034)"
   ]
  },
  {
   "cell_type": "code",
   "execution_count": 215,
   "metadata": {},
   "outputs": [
    {
     "name": "stdout",
     "output_type": "stream",
     "text": [
      "[   1    2    3    6    9   18  113  226  339  678 1017]\n"
     ]
    }
   ],
   "source": [
    "# Calculate the factors of the sample rate 2034\n",
    "import math\n",
    "\n",
    "factors = []\n",
    "for x in range(1, 2034):\n",
    "    if 2034 % x == 0:\n",
    "        factors.append(x)\n",
    "\n",
    "factors = np.array(factors)\n",
    "\n",
    "print(factors)"
   ]
  },
  {
   "cell_type": "code",
   "execution_count": 216,
   "metadata": {},
   "outputs": [],
   "source": [
    "# Each one of the factors can be used as a subsample size for the current sample rate of 2034.\n",
    "# You can specify a freqency (n) for the data you want to keep.\n",
    "# Each factor has a limit for (n), after which the subsample would be the same size as the sample"
   ]
  },
  {
   "cell_type": "code",
   "execution_count": 217,
   "metadata": {},
   "outputs": [
    {
     "name": "stdout",
     "output_type": "stream",
     "text": [
      "[2.034e+03 1.017e+03 6.780e+02 3.390e+02 2.260e+02 1.130e+02 1.800e+01\n",
      " 9.000e+00 6.000e+00 3.000e+00 2.000e+00]\n"
     ]
    }
   ],
   "source": [
    "min_sample_freqency = 2034 / factors\n",
    "print(min_sample_freqency)"
   ]
  },
  {
   "cell_type": "code",
   "execution_count": 218,
   "metadata": {},
   "outputs": [],
   "source": [
    "# A new sample frequency can be specified using factors of the original frequency 2034\n",
    "# A frequency of 1017 would mean every second value is kept i.e., 2034/1017 = 2\n",
    "# The lower the factor, the less data will be kept from the sample e.g., 2034/113 = 18 (Every 18th value will be kept)\n",
    "\n",
    "\n",
    "def donwsample(dataset, frequency):\n",
    "    downsampled_dataset = []\n",
    "\n",
    "    # downsampled_dataset = np.array(downsampled_dataset)\n",
    "    for i in range(0, dataset.shape[1], 2034):\n",
    "        second = dataset[:, i : i + 2034]\n",
    "\n",
    "        subsample = []\n",
    "        # subsample = np.array(subsample)\n",
    "        for j in range(0, 2034, int(2034 / frequency)):\n",
    "            if j < len(second):\n",
    "                measurement = second[:, j]\n",
    "                subsample.append(measurement)\n",
    "\n",
    "        downsampled_dataset.extend(subsample)\n",
    "\n",
    "        print(f\"Original shape: {dataset.shape}\")\n",
    "        print(f\"Downsampled shape: {np.array(downsampled_dataset).T.shape}\")\n",
    "\n",
    "    return np.array(downsampled_dataset).T"
   ]
  },
  {
   "cell_type": "code",
   "execution_count": 219,
   "metadata": {},
   "outputs": [],
   "source": [
    "def donwsample2(dataset, sample_size):\n",
    "    downsampled_dataset = []\n",
    "    for x in range(0, dataset.shape[1], sample_size):\n",
    "        sample = dataset.iloc[:, x:sample_size]\n",
    "        downsampled_dataset = downsampled_dataset.append(\n",
    "            downsampled_dataset, sample, axis=1\n",
    "        )\n",
    "    downsampled_dataset = np.array(downsampled_dataset)\n",
    "    return downsampled_dataset"
   ]
  },
  {
   "cell_type": "code",
   "execution_count": 220,
   "metadata": {},
   "outputs": [
    {
     "name": "stdout",
     "output_type": "stream",
     "text": [
      "Original shape: (248, 35624)\n",
      "Downsampled shape: (248, 124)\n",
      "Original shape: (248, 35624)\n",
      "Downsampled shape: (248, 248)\n",
      "Original shape: (248, 35624)\n",
      "Downsampled shape: (248, 372)\n",
      "Original shape: (248, 35624)\n",
      "Downsampled shape: (248, 496)\n",
      "Original shape: (248, 35624)\n",
      "Downsampled shape: (248, 620)\n",
      "Original shape: (248, 35624)\n",
      "Downsampled shape: (248, 744)\n",
      "Original shape: (248, 35624)\n",
      "Downsampled shape: (248, 868)\n",
      "Original shape: (248, 35624)\n",
      "Downsampled shape: (248, 992)\n",
      "Original shape: (248, 35624)\n",
      "Downsampled shape: (248, 1116)\n",
      "Original shape: (248, 35624)\n",
      "Downsampled shape: (248, 1240)\n",
      "Original shape: (248, 35624)\n",
      "Downsampled shape: (248, 1364)\n",
      "Original shape: (248, 35624)\n",
      "Downsampled shape: (248, 1488)\n",
      "Original shape: (248, 35624)\n",
      "Downsampled shape: (248, 1612)\n",
      "Original shape: (248, 35624)\n",
      "Downsampled shape: (248, 1736)\n",
      "Original shape: (248, 35624)\n",
      "Downsampled shape: (248, 1860)\n",
      "Original shape: (248, 35624)\n",
      "Downsampled shape: (248, 1984)\n",
      "Original shape: (248, 35624)\n",
      "Downsampled shape: (248, 2108)\n",
      "Original shape: (248, 35624)\n",
      "Downsampled shape: (248, 2232)\n",
      "(248, 2232)\n",
      "(248, 35624)\n"
     ]
    }
   ],
   "source": [
    "print(donwsample(scaled_data, 1017).shape)\n",
    "print(scaled_data.shape)"
   ]
  }
 ],
 "metadata": {
  "kernelspec": {
   "display_name": "base",
   "language": "python",
   "name": "python3"
  },
  "language_info": {
   "codemirror_mode": {
    "name": "ipython",
    "version": 3
   },
   "file_extension": ".py",
   "mimetype": "text/x-python",
   "name": "python",
   "nbconvert_exporter": "python",
   "pygments_lexer": "ipython3",
   "version": "3.11.5"
  }
 },
 "nbformat": 4,
 "nbformat_minor": 2
}
