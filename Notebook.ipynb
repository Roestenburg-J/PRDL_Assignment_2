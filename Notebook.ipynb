{
 "cells": [
  {
   "cell_type": "code",
   "execution_count": 168,
   "metadata": {},
   "outputs": [],
   "source": [
    "import h5py\n",
    "from sklearn.preprocessing import MinMaxScaler\n",
    "import pandas as pd\n",
    "import matplotlib.pyplot as plt\n",
    "import numpy as np"
   ]
  },
  {
   "cell_type": "code",
   "execution_count": 169,
   "metadata": {},
   "outputs": [],
   "source": [
    "def getdatasetname(file_name_with_dir):\n",
    "    filename_without_dir = file_name_with_dir.split(\"/\")[-1]\n",
    "    temp = filename_without_dir.split(\"_\")[:-1]\n",
    "    datasetname = \"_\".join(temp)\n",
    "    return datasetname"
   ]
  },
  {
   "cell_type": "code",
   "execution_count": 170,
   "metadata": {},
   "outputs": [
    {
     "name": "stdout",
     "output_type": "stream",
     "text": [
      "<class 'numpy.ndarray'>\n",
      "(248, 35624)\n"
     ]
    }
   ],
   "source": [
    "filename_path = \"./data/Intra/train/rest_105923_1.h5\"\n",
    "with h5py.File(filename_path, \"r\") as f:\n",
    "    dataset_name = getdatasetname(filename_path)\n",
    "    matrix = f.get(dataset_name)[()]\n",
    "    print(type(matrix))\n",
    "    print(matrix.shape)"
   ]
  },
  {
   "cell_type": "markdown",
   "metadata": {},
   "source": [
    "Preprocessing: MinMax Scaling\n"
   ]
  },
  {
   "cell_type": "code",
   "execution_count": 171,
   "metadata": {},
   "outputs": [
    {
     "name": "stdout",
     "output_type": "stream",
     "text": [
      "(248, 35624)\n"
     ]
    }
   ],
   "source": [
    "scaler = MinMaxScaler(feature_range=(0, 1))\n",
    "scaler.fit(matrix)\n",
    "scaled_data = scaler.transform(matrix)\n",
    "print(scaled_data.shape)"
   ]
  },
  {
   "cell_type": "markdown",
   "metadata": {},
   "source": [
    "Downsampling\n"
   ]
  },
  {
   "cell_type": "code",
   "execution_count": 172,
   "metadata": {},
   "outputs": [
    {
     "name": "stdout",
     "output_type": "stream",
     "text": [
      "17.514257620452312\n"
     ]
    }
   ],
   "source": [
    "print(scaled_data.shape[1] / 2034)"
   ]
  },
  {
   "cell_type": "markdown",
   "metadata": {},
   "source": [
    "Calculate the factors of the sample rate 2034. The factors are used to retrieve an evenly spaced proportion of the data, alternatively a sliding window could be used that retreives chuncks of data, as opposed to values\n"
   ]
  },
  {
   "cell_type": "code",
   "execution_count": 173,
   "metadata": {},
   "outputs": [
    {
     "name": "stdout",
     "output_type": "stream",
     "text": [
      "[   1    2    3    6    9   18  113  226  339  678 1017]\n"
     ]
    }
   ],
   "source": [
    "factors = []\n",
    "for x in range(1, 2034):\n",
    "    if 2034 % x == 0:\n",
    "        factors.append(x)\n",
    "\n",
    "factors = np.array(factors)\n",
    "\n",
    "print(factors)"
   ]
  },
  {
   "cell_type": "markdown",
   "metadata": {},
   "source": [
    "Each one of the factors can be used as a subsample size for the current sample rate of 2034.\n",
    "You can specify a freqency (n) for the data you want to keep.\n",
    "Each factor has a limit for (n), after which the subsample would be the same size as the sample\n"
   ]
  },
  {
   "cell_type": "code",
   "execution_count": 174,
   "metadata": {},
   "outputs": [
    {
     "name": "stdout",
     "output_type": "stream",
     "text": [
      "[2034. 1017.  678.  339.  226.  113.   18.    9.    6.    3.    2.]\n"
     ]
    }
   ],
   "source": [
    "min_sample_freqency = 2034 / factors\n",
    "np.set_printoptions(suppress=True)\n",
    "\n",
    "\n",
    "print(min_sample_freqency)"
   ]
  },
  {
   "cell_type": "markdown",
   "metadata": {},
   "source": [
    "A new sample frequency can be specified using factors of the original frequency 2034\n",
    "A frequency of 1017 would mean every second value is kept i.e., 2034/1017 = 2\n",
    "The lower the factor, the less data will be kept from the sample e.g., 2034/113 = 18 (Every 18th value will be kept)\n"
   ]
  },
  {
   "cell_type": "code",
   "execution_count": 175,
   "metadata": {},
   "outputs": [],
   "source": [
    "def donwsample(dataset, frequency):\n",
    "    downsampled_dataset = []\n",
    "\n",
    "    for i in range(0, dataset.shape[1], 2034):\n",
    "        second = dataset[:, i : i + 2034]\n",
    "        subsample = []\n",
    "\n",
    "        for j in range(0, 2034, int(2034 / frequency)):\n",
    "            if j < second.shape[1]:\n",
    "                measurement = second[:, j]\n",
    "                subsample.append(measurement)\n",
    "\n",
    "        downsampled_dataset.extend(subsample)\n",
    "\n",
    "    return np.array(downsampled_dataset).T"
   ]
  },
  {
   "cell_type": "code",
   "execution_count": 176,
   "metadata": {},
   "outputs": [
    {
     "name": "stdout",
     "output_type": "stream",
     "text": [
      "(248, 1980)\n",
      "(248, 35624)\n"
     ]
    }
   ],
   "source": [
    "print(donwsample(scaled_data, 113).shape)\n",
    "print(scaled_data.shape)"
   ]
  }
 ],
 "metadata": {
  "kernelspec": {
   "display_name": "base",
   "language": "python",
   "name": "python3"
  },
  "language_info": {
   "codemirror_mode": {
    "name": "ipython",
    "version": 3
   },
   "file_extension": ".py",
   "mimetype": "text/x-python",
   "name": "python",
   "nbconvert_exporter": "python",
   "pygments_lexer": "ipython3",
   "version": "3.11.5"
  }
 },
 "nbformat": 4,
 "nbformat_minor": 2
}
