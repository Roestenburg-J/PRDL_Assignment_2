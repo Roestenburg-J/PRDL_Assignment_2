{
  "cells": [
    {
      "cell_type": "code",
      "execution_count": 23,
      "metadata": {
        "id": "NTjtRYkxL447"
      },
      "outputs": [
        {
          "name": "stdout",
          "output_type": "stream",
          "text": [
            "No env_vars file found. Using default values. Make a \"env_vars.py\" file to change them.\n"
          ]
        }
      ],
      "source": [
        "import h5py\n",
        "from sklearn.preprocessing import MinMaxScaler\n",
        "import pandas as pd\n",
        "import matplotlib.pyplot as plt\n",
        "import numpy as np\n",
        "import os\n",
        "\n",
        "# Locally get vars to accommodate different environments\n",
        "try:\n",
        "    from env_vars import *\n",
        "except:\n",
        "    print(\n",
        "        'No env_vars file found. Using default values. Make a \"env_vars.py\" file to change them.'\n",
        "    )\n",
        "    intra_train_path = \"/Users/ellalouwenaar/Documents/Documenten - MacBook Air van Ella/Artificial Intelligence/Jaar 2/BLOK 2 (2023)/Final Project data/Intra/train\"\n",
        "    intra_test_path = \"/Users/ellalouwenaar/Documents/Documenten - MacBook Air van Ella/Artificial Intelligence/Jaar 2/BLOK 2 (2023)/Final Project data/Intra/test\""
      ]
    },
    {
      "cell_type": "code",
      "execution_count": 24,
      "metadata": {
        "colab": {
          "base_uri": "https://localhost:8080/"
        },
        "id": "zLJacqmIQHq3",
        "outputId": "c39fec2f-d9ed-45e6-cf0c-319f9d138161"
      },
      "outputs": [],
      "source": [
        "# from google.colab import drive\n",
        "\n",
        "# drive.mount(\"/content/gdrive\")"
      ]
    },
    {
      "cell_type": "code",
      "execution_count": 25,
      "metadata": {
        "id": "5ltmaALlL449"
      },
      "outputs": [],
      "source": [
        "# Used to get the name of the dataset, and by extension, the label of the action being performed\n",
        "def getdatasetname(file_name_with_dir):\n",
        "    filename_without_dir = file_name_with_dir.split(\"/\")[-1]\n",
        "\n",
        "    temp = filename_without_dir.split(\"_\")[:-1]\n",
        "\n",
        "    datasetname = \"_\".join(temp)\n",
        "\n",
        "    return datasetname"
      ]
    },
    {
      "cell_type": "code",
      "execution_count": 26,
      "metadata": {
        "id": "rk_y7Ak6L449"
      },
      "outputs": [],
      "source": [
        "# Used to get the labels of data using filenames\n",
        "def get_label(filename):\n",
        "    if \"rest\" in filename:\n",
        "        label = 0\n",
        "\n",
        "    elif \"math\" in filename:\n",
        "        label = 1\n",
        "\n",
        "    elif \"memory\" in filename:\n",
        "        label = 2\n",
        "    elif \"motor\" in filename:\n",
        "        label = 3\n",
        "\n",
        "    return label"
      ]
    },
    {
      "cell_type": "code",
      "execution_count": 27,
      "metadata": {
        "id": "CqLPp7xKL44_"
      },
      "outputs": [],
      "source": [
        "def get_all_matrices(dir_path):\n",
        "    dataset = []\n",
        "    labels = []\n",
        "    for filename in os.listdir(dir_path):\n",
        "        if filename.endswith(\".h5\"):\n",
        "            filename_path = dir_path + filename\n",
        "            with h5py.File(filename_path, \"r\") as f:\n",
        "                dataset_name = getdatasetname(filename_path)\n",
        "                label = get_label(filename)\n",
        "                matrix = f.get(dataset_name)[()]\n",
        "                dataset.append(matrix)\n",
        "                labels.append(label)\n",
        "\n",
        "    return dataset, labels"
      ]
    },
    {
      "cell_type": "markdown",
      "metadata": {},
      "source": [
        "MinMax Scaling for sensor data\n"
      ]
    },
    {
      "cell_type": "code",
      "execution_count": 28,
      "metadata": {
        "id": "x0KQT9KkL45A"
      },
      "outputs": [],
      "source": [
        "def scale(matrix):\n",
        "    scaler = MinMaxScaler(feature_range=(0, 1))\n",
        "\n",
        "    scaler.fit(matrix)\n",
        "\n",
        "    scaled_data = scaler.transform(matrix)\n",
        "\n",
        "    return scaled_data"
      ]
    },
    {
      "cell_type": "markdown",
      "metadata": {},
      "source": [
        "Downsampling of data, refer to file called \"Notebook.ipynb\" to see how it works\n"
      ]
    },
    {
      "cell_type": "code",
      "execution_count": 29,
      "metadata": {
        "id": "UbSawgmiL45A"
      },
      "outputs": [],
      "source": [
        "def downsample(dataset, frequency):\n",
        "    downsampled_dataset = []\n",
        "\n",
        "    for i in range(0, dataset.shape[1], 2034):\n",
        "        second = dataset[:, i : i + 2034]\n",
        "        subsample = []\n",
        "\n",
        "        for j in range(0, 2034, int(2034 / frequency)):\n",
        "            if j < second.shape[1]:\n",
        "                measurement = second[:, j]\n",
        "                subsample.append(measurement)\n",
        "\n",
        "        downsampled_dataset.extend(subsample)\n",
        "\n",
        "    return np.array(downsampled_dataset).T"
      ]
    },
    {
      "cell_type": "markdown",
      "metadata": {
        "id": "bYd4BFYML45D"
      },
      "source": [
        "Model setup\n"
      ]
    },
    {
      "cell_type": "code",
      "execution_count": 30,
      "metadata": {
        "colab": {
          "base_uri": "https://localhost:8080/"
        },
        "id": "o-L0I5MdL45E",
        "outputId": "dca14458-a292-486a-ee93-0eacd90dc6a4"
      },
      "outputs": [
        {
          "name": "stdout",
          "output_type": "stream",
          "text": [
            "2.15.0\n"
          ]
        }
      ],
      "source": [
        "# TensorFlow and tf.keras\n",
        "import tensorflow as tf\n",
        "\n",
        "print(tf.__version__)"
      ]
    },
    {
      "cell_type": "markdown",
      "metadata": {},
      "source": [
        "This is where the archtiecture is specified. For now it is just a Recurrent Neural Network (RNN) with two layers with 128 parameters each i.e., not very sophisticated.\n"
      ]
    },
    {
      "cell_type": "code",
      "execution_count": 31,
      "metadata": {
        "id": "rup5-IlsMh3E"
      },
      "outputs": [],
      "source": [
        "model = tf.keras.Sequential(\n",
        "    [\n",
        "        tf.keras.layers.Dense(\n",
        "            128, activation=\"softmax\"\n",
        "        ),  # The layer has 128 dense neurons using relu for activation\n",
        "        tf.keras.layers.Dense(\n",
        "            128, activation=\"softmax\"\n",
        "        ),  # The layer has 128 dense neurons using relu for activation\n",
        "        tf.keras.layers.Dense(\n",
        "            4\n",
        "        ),  # The final layer has 4 neurons, each representing a class for the action being done\n",
        "    ]\n",
        ")"
      ]
    },
    {
      "cell_type": "code",
      "execution_count": 32,
      "metadata": {
        "id": "Ok4qL_jsNbao"
      },
      "outputs": [],
      "source": [
        "model.compile(\n",
        "    optimizer=\"adam\",\n",
        "    loss=tf.keras.losses.SparseCategoricalCrossentropy(from_logits=True),\n",
        "    metrics=[\"accuracy\"],\n",
        ")"
      ]
    },
    {
      "cell_type": "code",
      "execution_count": 33,
      "metadata": {
        "id": "N6LJwavfYyf7"
      },
      "outputs": [],
      "source": [
        "def load_data(dir_path):\n",
        "    data = []\n",
        "    labels = []\n",
        "\n",
        "    for filename in os.listdir(dir_path):\n",
        "        if filename.endswith(\".h5\"):\n",
        "            filename_path = os.path.join(dir_path, filename)\n",
        "            with h5py.File(filename_path, \"r\") as f:\n",
        "                dataset_name = getdatasetname(filename_path)\n",
        "                label = get_label(filename)\n",
        "                matrix = f.get(dataset_name)[()]\n",
        "\n",
        "                train_meg = downsample(matrix, 113)\n",
        "                train_meg = scale(train_meg)\n",
        "                flattened_meg = np.array(\n",
        "                    train_meg.flatten()\n",
        "                )  # The data is flattened to change the meg data from shape 248 x frequency to a 1D array (result: a lot of inupt params)\n",
        "\n",
        "                data.append(flattened_meg)\n",
        "                labels.append(label)\n",
        "\n",
        "    return np.array(data), np.array(labels)"
      ]
    },
    {
      "cell_type": "markdown",
      "metadata": {},
      "source": [
        "All training data is loaded into memory and fitted to the model along with the training lables\n"
      ]
    },
    {
      "cell_type": "code",
      "execution_count": 34,
      "metadata": {
        "id": "oaAZ7fUSYzf4"
      },
      "outputs": [],
      "source": [
        "def train_model(dir_path, model):\n",
        "    train_data, train_labels = load_data(dir_path)\n",
        "\n",
        "    model.fit(train_data, train_labels, epochs=10)"
      ]
    },
    {
      "cell_type": "code",
      "execution_count": 35,
      "metadata": {
        "id": "AAgk0CTaZZAa"
      },
      "outputs": [],
      "source": [
        "def test_model(dir_path, model):\n",
        "    test_data, test_labels = load_data(dir_path)\n",
        "\n",
        "    test_loss, test_acc = model.evaluate(test_data, test_labels, verbose=2)\n",
        "\n",
        "    return test_loss, test_acc"
      ]
    },
    {
      "cell_type": "code",
      "execution_count": 36,
      "metadata": {
        "colab": {
          "base_uri": "https://localhost:8080/"
        },
        "id": "rdCUhc98SEVx",
        "outputId": "372136ee-d0f3-41e5-d120-db5a50bf0c85"
      },
      "outputs": [
        {
          "name": "stdout",
          "output_type": "stream",
          "text": [
            "Epoch 1/10\n",
            "1/1 [==============================] - 6s 6s/step - loss: 1.3863 - accuracy: 0.2500\n",
            "Epoch 2/10\n",
            "1/1 [==============================] - 2s 2s/step - loss: 1.3863 - accuracy: 0.2500\n",
            "Epoch 3/10\n",
            "1/1 [==============================] - 1s 1s/step - loss: 1.3863 - accuracy: 0.2500\n",
            "Epoch 4/10\n",
            "1/1 [==============================] - 2s 2s/step - loss: 1.3863 - accuracy: 0.2500\n",
            "Epoch 5/10\n",
            "1/1 [==============================] - 1s 1s/step - loss: 1.3863 - accuracy: 0.2500\n",
            "Epoch 6/10\n",
            "1/1 [==============================] - 1s 1s/step - loss: 1.3863 - accuracy: 0.2500\n",
            "Epoch 7/10\n",
            "1/1 [==============================] - 2s 2s/step - loss: 1.3863 - accuracy: 0.2500\n",
            "Epoch 8/10\n",
            "1/1 [==============================] - 1s 1s/step - loss: 1.3863 - accuracy: 0.2500\n",
            "Epoch 9/10\n",
            "1/1 [==============================] - 1s 951ms/step - loss: 1.3863 - accuracy: 0.2500\n",
            "Epoch 10/10\n",
            "1/1 [==============================] - 1s 917ms/step - loss: 1.3863 - accuracy: 0.2500\n"
          ]
        }
      ],
      "source": [
        "train_model(intra_train_path, model)"
      ]
    },
    {
      "cell_type": "code",
      "execution_count": 37,
      "metadata": {
        "colab": {
          "base_uri": "https://localhost:8080/"
        },
        "id": "-gM8GXJeTlxx",
        "outputId": "db17792a-fff6-4510-c422-9603695b0547"
      },
      "outputs": [
        {
          "name": "stdout",
          "output_type": "stream",
          "text": [
            "1/1 - 0s - loss: 1.3863 - accuracy: 0.2500 - 302ms/epoch - 302ms/step\n",
            "\n",
            "Test accuracy: 0.25\n"
          ]
        }
      ],
      "source": [
        "test_loss, test_acc = test_model(intra_test_path, model)\n",
        "\n",
        "print(\"\\nTest accuracy:\", test_acc)"
      ]
    },
    {
      "cell_type": "code",
      "execution_count": 38,
      "metadata": {},
      "outputs": [],
      "source": [
        "def load_data_LTSM(dir_path):\n",
        "    data = []\n",
        "    labels = []\n",
        "\n",
        "    for filename in os.listdir(dir_path):\n",
        "        if filename.endswith(\".h5\"):\n",
        "            filename_path = os.path.join(dir_path, filename)\n",
        "            with h5py.File(filename_path, \"r\") as f:\n",
        "                dataset_name = getdatasetname(filename_path)\n",
        "                label = get_label(filename)\n",
        "                matrix = f.get(dataset_name)[()]\n",
        "\n",
        "                train_meg = downsample(matrix, 113)\n",
        "                train_meg = scale(train_meg)\n",
        "                data.append(train_meg)\n",
        "                labels.append(label)\n",
        "\n",
        "    return np.array(data), np.array(labels)"
      ]
    },
    {
      "cell_type": "code",
      "execution_count": 39,
      "metadata": {},
      "outputs": [
        {
          "name": "stdout",
          "output_type": "stream",
          "text": [
            "(8, 248, 1980)\n",
            "(32, 248, 1980)\n",
            "[[0. 0. 0. 1.]\n",
            " [1. 0. 0. 0.]\n",
            " [0. 1. 0. 0.]\n",
            " [0. 0. 1. 0.]\n",
            " [0. 0. 0. 1.]\n",
            " [0. 1. 0. 0.]\n",
            " [0. 0. 1. 0.]\n",
            " [1. 0. 0. 0.]]\n"
          ]
        }
      ],
      "source": [
        "trainx, trainY = load_data_LTSM(intra_train_path)\n",
        "\n",
        "trainy = tf.keras.utils.to_categorical(trainY)\n",
        "\n",
        "testx, testY = load_data_LTSM(intra_test_path)\n",
        "\n",
        "testy = tf.keras.utils.to_categorical(testY)\n",
        "\n",
        "print(testx.shape)\n",
        "print(trainx.shape)\n",
        "print(testy)"
      ]
    },
    {
      "cell_type": "markdown",
      "metadata": {},
      "source": [
        "# Array to mesh\n",
        "We can reshape the data to a 2d format, this way to spatial relationship of the sensors can be taken into account. "
      ]
    },
    {
      "cell_type": "code",
      "execution_count": 41,
      "metadata": {},
      "outputs": [],
      "source": [
        "\n",
        "\n",
        "def array_to_mesh(arr):    \n",
        "\n",
        "    input_rows = 20\n",
        "    input_columns = 21\n",
        "    input_channels = 248\n",
        "\n",
        "    assert arr.shape == (1,input_channels),\"the shape of the input array should be (1,248) because there are 248 MEG channels,received array of shape \" + str(arr.shape)\n",
        "    output = np.zeros((input_rows,input_columns),dtype = float)\n",
        "    \n",
        "    #121\n",
        "    output[0][10] = arr[0][120]\n",
        "      \n",
        "    #89\n",
        "    output[1][12] = arr[0][151]\n",
        "    output[1][11] = arr[0][119]\n",
        "    output[1][10] = arr[0][88]\n",
        "    output[1][9] = arr[0][89]\n",
        "    output[1][8] = arr[0][121]\n",
        "    \n",
        "    #61\n",
        "    output[2][13] = arr[0][150]\n",
        "    output[2][12] = arr[0][118]\n",
        "    output[2][11] = arr[0][87]\n",
        "    output[2][10] = arr[0][60]\n",
        "    output[2][9] = arr[0][61]\n",
        "    output[2][8] = arr[0][90]\n",
        "    output[2][7] = arr[0][122]\n",
        "    \n",
        "    #37\n",
        "    output[3][14] = arr[0][149]\n",
        "    output[3][13] = arr[0][117]\n",
        "    output[3][12] = arr[0][86]\n",
        "    output[3][11] = arr[0][59]\n",
        "    output[3][10] = arr[0][36]\n",
        "    output[3][9] = arr[0][37]\n",
        "    output[3][8] = arr[0][62]\n",
        "    output[3][7] = arr[0][91]\n",
        "    output[3][6] = arr[0][123]\n",
        "    \n",
        "    #19\n",
        "    output[4][17] = arr[0][194]\n",
        "    output[4][16] = arr[0][175]\n",
        "    output[4][15] = arr[0][148]\n",
        "    output[4][14] = arr[0][116]\n",
        "    output[4][13] = arr[0][85]\n",
        "    output[4][12] = arr[0][58]\n",
        "    output[4][11] = arr[0][35]\n",
        "    output[4][10] = arr[0][18]\n",
        "    output[4][9] = arr[0][19]\n",
        "    output[4][8] = arr[0][38]\n",
        "    output[4][7] = arr[0][63]\n",
        "    output[4][6] = arr[0][92]\n",
        "    output[4][5] = arr[0][152]\n",
        "    output[4][4] = arr[0][176]\n",
        "\n",
        "    #5\n",
        "    output[5][20] = arr[0][247]\n",
        "    output[5][19] = arr[0][227]\n",
        "    output[5][18] = arr[0][193]\n",
        "    output[5][17] = arr[0][174]\n",
        "    output[5][16] = arr[0][147]\n",
        "    output[5][15] = arr[0][115]\n",
        "    output[5][14] = arr[0][84]\n",
        "    output[5][13] = arr[0][57]\n",
        "    output[5][12] = arr[0][34]\n",
        "    output[5][11] = arr[0][17]\n",
        "    output[5][10] = arr[0][4]\n",
        "    output[5][9] = arr[0][5]\n",
        "    output[5][8] = arr[0][20]\n",
        "    output[5][7] = arr[0][39]\n",
        "    output[5][6] = arr[0][64]\n",
        "    output[5][5] = arr[0][93]\n",
        "    output[5][4] = arr[0][125]\n",
        "    output[5][3] = arr[0][153]\n",
        "    output[5][2] = arr[0][177]\n",
        "    output[5][1] = arr[0][211]\n",
        "    output[5][0] = arr[0][228]\n",
        "    \n",
        "    #4\n",
        "    output[6][20] = arr[0][246]\n",
        "    output[6][19] = arr[0][226]\n",
        "    output[6][18] = arr[0][192]\n",
        "    output[6][17] = arr[0][173]\n",
        "    output[6][16] = arr[0][146]\n",
        "    output[6][15] = arr[0][114]\n",
        "    output[6][14] = arr[0][83]\n",
        "    output[6][13] = arr[0][56]\n",
        "    output[6][12] = arr[0][33]\n",
        "    output[6][11] = arr[0][16]\n",
        "    output[6][10] = arr[0][3]\n",
        "    output[6][9] = arr[0][6]\n",
        "    output[6][8] = arr[0][21]\n",
        "    output[6][7] = arr[0][40]\n",
        "    output[6][6] = arr[0][65]\n",
        "    output[6][5] = arr[0][94]\n",
        "    output[6][4] = arr[0][126]\n",
        "    output[6][3] = arr[0][154]\n",
        "    output[6][2] = arr[0][178]\n",
        "    output[6][1] = arr[0][212]\n",
        "    output[6][0] = arr[0][229]\n",
        "\n",
        "    \n",
        "    #3\n",
        "    output[7][19] = arr[0][245]\n",
        "    output[7][18] = arr[0][210]\n",
        "    output[7][17] = arr[0][172]\n",
        "    output[7][16] = arr[0][145]\n",
        "    output[7][15] = arr[0][113]\n",
        "    output[7][14] = arr[0][82]\n",
        "    output[7][13] = arr[0][55]\n",
        "    output[7][12] = arr[0][32]\n",
        "    output[7][11] = arr[0][15]\n",
        "    output[7][10] = arr[0][2]\n",
        "    output[7][9] = arr[0][7]\n",
        "    output[7][8] = arr[0][22]\n",
        "    output[7][7] = arr[0][41]\n",
        "    output[7][6] = arr[0][66]\n",
        "    output[7][5] = arr[0][95]\n",
        "    output[7][4] = arr[0][127]\n",
        "    output[7][3] = arr[0][155]\n",
        "    output[7][2] = arr[0][195]\n",
        "    output[7][1] = arr[0][230]\n",
        "            \n",
        "    #8\n",
        "    output[8][19] = arr[0][244]\n",
        "    output[8][18] = arr[0][209]\n",
        "    output[8][17] = arr[0][171]\n",
        "    output[8][16] = arr[0][144]\n",
        "    output[8][15] = arr[0][112]\n",
        "    output[8][14] = arr[0][81]\n",
        "    output[8][13] = arr[0][54]\n",
        "    output[8][12] = arr[0][31]\n",
        "    output[8][11] = arr[0][14]\n",
        "    output[8][10] = arr[0][1]\n",
        "    output[8][9] = arr[0][8]\n",
        "    output[8][8] = arr[0][23]\n",
        "    output[8][7] = arr[0][42]\n",
        "    output[8][6] = arr[0][67]\n",
        "    output[8][5] = arr[0][96]\n",
        "    output[8][4] = arr[0][128]\n",
        "    output[8][3] = arr[0][156]\n",
        "    output[8][2] = arr[0][196]\n",
        "    output[8][1] = arr[0][231]\n",
        "    \n",
        "    #1\n",
        "    output[9][19] = arr[0][243]\n",
        "    output[9][18] = arr[0][208]\n",
        "    output[9][17] = arr[0][170]\n",
        "    output[9][16] = arr[0][143]\n",
        "    output[9][15] = arr[0][111]\n",
        "    output[9][14] = arr[0][80]\n",
        "    output[9][13] = arr[0][53]\n",
        "    output[9][12] = arr[0][30]\n",
        "    output[9][11] = arr[0][13]\n",
        "    output[9][10] = arr[0][0]\n",
        "    output[9][9] = arr[0][9]\n",
        "    output[9][8] = arr[0][24]\n",
        "    output[9][7] = arr[0][43]\n",
        "    output[9][6] = arr[0][68]\n",
        "    output[9][5] = arr[0][97]\n",
        "    output[9][4] = arr[0][129]\n",
        "    output[9][3] = arr[0][157]\n",
        "    output[9][2] = arr[0][197]\n",
        "    output[9][1] = arr[0][232]\n",
        "    \n",
        "    #12\n",
        "    output[10][18] = arr[0][225]\n",
        "    output[10][17] = arr[0][191]\n",
        "    output[10][16] = arr[0][142]\n",
        "    output[10][15] = arr[0][110]\n",
        "    output[10][14] = arr[0][79]\n",
        "    output[10][13] = arr[0][52]\n",
        "    output[10][12] = arr[0][29]\n",
        "    output[10][11] = arr[0][12]\n",
        "    output[10][10] = arr[0][11]\n",
        "    output[10][9] = arr[0][10]\n",
        "    output[10][8] = arr[0][25]\n",
        "    output[10][7] = arr[0][44]\n",
        "    output[10][6] = arr[0][69]\n",
        "    output[10][5] = arr[0][98]\n",
        "    output[10][4] = arr[0][130]\n",
        "    output[10][3] = arr[0][179]\n",
        "    output[10][2] = arr[0][213]\n",
        "    \n",
        "    #28\n",
        "    output[11][16] = arr[0][169]\n",
        "    output[11][15] = arr[0][141]\n",
        "    output[11][14] = arr[0][109]\n",
        "    output[11][13] = arr[0][78]\n",
        "    output[11][12] = arr[0][51]\n",
        "    output[11][11] = arr[0][28]\n",
        "    output[11][10] = arr[0][27]\n",
        "    output[11][9] = arr[0][26]\n",
        "    output[11][8] = arr[0][45]\n",
        "    output[11][7] = arr[0][70]\n",
        "    output[11][6] = arr[0][99]\n",
        "    output[11][5] = arr[0][131]\n",
        "    output[11][4] = arr[0][158]\n",
        "    \n",
        "    #49\n",
        "    output[12][17] = arr[0][190]\n",
        "    output[12][16] = arr[0][168]\n",
        "    output[12][15] = arr[0][140]\n",
        "    output[12][14] = arr[0][108]\n",
        "    output[12][13] = arr[0][77]\n",
        "    output[12][12] = arr[0][50]\n",
        "    output[12][11] = arr[0][49]\n",
        "    output[12][10] = arr[0][48]\n",
        "    output[12][9] = arr[0][47]\n",
        "    output[12][8] = arr[0][46]\n",
        "    output[12][7] = arr[0][71]\n",
        "    output[12][6] = arr[0][100]\n",
        "    output[12][5] = arr[0][132]\n",
        "    output[12][4] = arr[0][159]\n",
        "    output[12][3] = arr[0][180]\n",
        "\n",
        "    \n",
        "    #75\n",
        "    output[13][18] = arr[0][224]\n",
        "    output[13][17] = arr[0][207]\n",
        "    output[13][16] = arr[0][189]\n",
        "    output[13][15] = arr[0][167]\n",
        "    output[13][14] = arr[0][139]\n",
        "    output[13][13] = arr[0][107]\n",
        "    output[13][12] = arr[0][76]\n",
        "    output[13][11] = arr[0][75]\n",
        "    output[13][10] = arr[0][74]\n",
        "    output[13][9] = arr[0][73]\n",
        "    output[13][8] = arr[0][72]\n",
        "    output[13][7] = arr[0][101]\n",
        "    output[13][6] = arr[0][133]\n",
        "    output[13][5] = arr[0][160]\n",
        "    output[13][4] = arr[0][181]\n",
        "    output[13][3] = arr[0][198]\n",
        "    output[13][2] = arr[0][214]\n",
        "    \n",
        "    #105\n",
        "    output[14][18] = arr[0][242]\n",
        "    output[14][17] = arr[0][223]\n",
        "    output[14][16] = arr[0][206]\n",
        "    output[14][15] = arr[0][188]\n",
        "    output[14][14] = arr[0][166]\n",
        "    output[14][13] = arr[0][138]\n",
        "    output[14][12] = arr[0][106]\n",
        "    output[14][11] = arr[0][105]\n",
        "    output[14][10] = arr[0][104]\n",
        "    output[14][9] = arr[0][103]\n",
        "    output[14][8] = arr[0][102]\n",
        "    output[14][7] = arr[0][134]\n",
        "    output[14][6] = arr[0][161]\n",
        "    output[14][5] = arr[0][182]\n",
        "    output[14][4] = arr[0][199]\n",
        "    output[14][3] = arr[0][215]\n",
        "    output[14][2] = arr[0][233]\n",
        "    \n",
        "    \n",
        "    #137\n",
        "    output[15][16] = arr[0][241]\n",
        "    output[15][15] = arr[0][222]\n",
        "    output[15][14] = arr[0][205]\n",
        "    output[15][13] = arr[0][187]\n",
        "    output[15][12] = arr[0][165]\n",
        "    output[15][11] = arr[0][137]\n",
        "    output[15][10] = arr[0][136]\n",
        "    output[15][9] = arr[0][135]\n",
        "    output[15][8] = arr[0][162]\n",
        "    output[15][7] = arr[0][183]\n",
        "    output[15][6] = arr[0][200]\n",
        "    output[15][5] = arr[0][216]\n",
        "    output[15][4] = arr[0][234]\n",
        "    \n",
        "    \n",
        "    #mix\n",
        "    output[16][15] = arr[0][240]\n",
        "    output[16][14] = arr[0][221]\n",
        "    output[16][13] = arr[0][204]\n",
        "    output[16][12] = arr[0][186]\n",
        "    output[16][11] = arr[0][164]\n",
        "    output[16][10] = arr[0][163]\n",
        "    output[16][9] = arr[0][184]\n",
        "    output[16][8] = arr[0][201]\n",
        "    output[16][7] = arr[0][217]\n",
        "    output[16][6] = arr[0][235]\n",
        "   \n",
        "    #186\n",
        "    output[17][12] = arr[0][220]\n",
        "    output[17][11] = arr[0][203]\n",
        "    output[17][10] = arr[0][185]\n",
        "    output[17][9] = arr[0][202]\n",
        "    output[17][8] = arr[0][218]\n",
        "   \n",
        "    #220\n",
        "    output[18][11] = arr[0][239]\n",
        "    output[18][10] = arr[0][219]\n",
        "    output[18][9] = arr[0][236]\n",
        "    \n",
        "    #mix\n",
        "    output[19][11] = arr[0][238]\n",
        "    output[19][10] = arr[0][237]\n",
        "    \n",
        "    return output\n",
        "\n"
      ]
    },
    {
      "cell_type": "code",
      "execution_count": 42,
      "metadata": {},
      "outputs": [
        {
          "name": "stdout",
          "output_type": "stream",
          "text": [
            "(32, 1980, 20, 21)\n"
          ]
        },
        {
          "data": {
            "image/png": "[encoded data removed]",
            "text/plain": [
              "<Figure size 640x480 with 2 Axes>"
            ]
          },
          "metadata": {},
          "output_type": "display_data"
        }
      ],
      "source": [
        "def convert_to_mesh(trainx):\n",
        "    meshes = []\n",
        "    for scan in trainx:\n",
        "        mesh_per_timestamp = []\n",
        "        for i in range(scan.shape[1]): \n",
        "            single_timestamp = scan[:,i]\n",
        "            reshaped_array = single_timestamp.reshape(1, -1)\n",
        "            mesh = array_to_mesh(reshaped_array)\n",
        "            mesh_per_timestamp.append(mesh)\n",
        "        meshes.append(mesh_per_timestamp)\n",
        "    return meshes\n",
        "\n",
        "trainx_mesh = convert_to_mesh(trainx)\n",
        "print(np.shape(trainx_mesh))\n",
        "\n",
        "\n",
        "# show one example mesh, first scan, first timestamp, array with shape (20,21)\n",
        "plt.imshow(trainx_mesh[0][0], cmap='viridis', aspect='auto')\n",
        "plt.title('Visual representation of the 248 sensors')\n",
        "plt.colorbar()\n",
        "plt.show()\n",
        "\n",
        "# plt.imshow(output, cmap='viridis')\n",
        "# plt.show()\n",
        "\n",
        "\n",
        "\n"
      ]
    },
    {
      "cell_type": "code",
      "execution_count": 44,
      "metadata": {},
      "outputs": [
        {
          "data": {
            "image/png": "[encoded data removed]",
            "text/plain": [
              "<Figure size 640x480 with 2 Axes>"
            ]
          },
          "metadata": {},
          "output_type": "display_data"
        }
      ],
      "source": [
        "import numpy as np\n",
        "import matplotlib.pyplot as plt\n",
        "from matplotlib.widgets import Slider\n",
        "\n",
        "\n",
        "# Set up the initial figure and axes\n",
        "fig, ax = plt.subplots()\n",
        "plt.subplots_adjust(bottom=0.25)\n",
        "\n",
        "# Display the initial grid\n",
        "current_sensor = 0\n",
        "img = ax.imshow(trainx_mesh[0, 0], cmap='viridis', aspect='auto')\n",
        "\n",
        "# Add a slider for time step navigation\n",
        "ax_timestamp = plt.axes([0.25, 0.1, 0.65, 0.03], facecolor='lightgoldenrodyellow')\n",
        "slider = Slider(ax_timestamp, 'Time Step', 0, 1980 - 1, valinit=0, valstep=1)\n",
        "\n",
        "# Function to update the plot when the slider changes\n",
        "def update(val):\n",
        "    current_sensor = int(slider.val)\n",
        "    img.set_array(trainx_mesh[0, current_sensor])\n",
        "    fig.canvas.draw_idle()\n",
        "\n",
        "# Connect the slider to the update function\n",
        "slider.on_changed(update)\n",
        "\n",
        "# Show the plot\n",
        "plt.show()\n"
      ]
    },
    {
      "cell_type": "code",
      "execution_count": 67,
      "metadata": {},
      "outputs": [
        {
          "data": {
            "image/png": "[encoded data removed]",
            "text/plain": [
              "<Figure size 640x480 with 2 Axes>"
            ]
          },
          "metadata": {},
          "output_type": "display_data"
        }
      ],
      "source": [
        "from matplotlib.widgets import Slider\n",
        "\n",
        "# Assuming arr is your 3D array with shape (1980, 20, 21)\n",
        "arr = trainx_mesh[0]\n",
        "\n",
        "# Set up the initial figure and axes\n",
        "fig, ax = plt.subplots()\n",
        "plt.subplots_adjust(bottom=0.25)\n",
        "\n",
        "# Display the initial grid\n",
        "current_timestamp = 0\n",
        "img = ax.imshow(arr[current_timestamp], cmap='viridis')\n",
        "\n",
        "# Add a slider for timestamp navigation\n",
        "ax_timestamp = plt.axes([0.25, 0.1, 0.65, 0.03], facecolor='lightgoldenrodyellow')\n",
        "slider = Slider(ax_timestamp, 'Timestamp', 0, 1980 - 1, valinit=current_timestamp, valstep=1)\n",
        "\n",
        "# Function to update the plot when the slider changes\n",
        "def update(val):\n",
        "    current_timestamp = int(slider.val)\n",
        "    img.set_array(arr[current_timestamp])\n",
        "    fig.canvas.draw_idle()\n",
        "\n",
        "# Connect the slider to the update function\n",
        "slider.on_changed(update)\n",
        "\n",
        "# Make the plot interactive\n",
        "plt.ion()\n",
        "\n",
        "# Show the plot without blocking the script\n",
        "plt.show(block=False)\n",
        "\n",
        "# Allow the plot to be interactive\n",
        "plt.pause(0.001)\n",
        "input(\"Press Enter to exit.\")"
      ]
    },
    {
      "cell_type": "code",
      "execution_count": 39,
      "metadata": {},
      "outputs": [
        {
          "name": "stdout",
          "output_type": "stream",
          "text": [
            "WARNING:tensorflow:AutoGraph could not transform <function Model.make_train_function.<locals>.train_function at 0x12e1ff7f0> and will run it as-is.\n",
            "Cause: Unable to locate the source code of <function Model.make_train_function.<locals>.train_function at 0x12e1ff7f0>. Note that functions defined in certain environments, like the interactive Python shell, do not expose their source code. If that is the case, you should define them in a .py source file. If you are certain the code is graph-compatible, wrap the call using @tf.autograph.experimental.do_not_convert. Original error: could not get source code\n",
            "To silence this warning, decorate the function with @tf.autograph.experimental.do_not_convert\n",
            "WARNING: AutoGraph could not transform <function Model.make_train_function.<locals>.train_function at 0x12e1ff7f0> and will run it as-is.\n",
            "Cause: Unable to locate the source code of <function Model.make_train_function.<locals>.train_function at 0x12e1ff7f0>. Note that functions defined in certain environments, like the interactive Python shell, do not expose their source code. If that is the case, you should define them in a .py source file. If you are certain the code is graph-compatible, wrap the call using @tf.autograph.experimental.do_not_convert. Original error: could not get source code\n",
            "To silence this warning, decorate the function with @tf.autograph.experimental.do_not_convert\n",
            "WARNING:tensorflow:AutoGraph could not transform <function Model.make_predict_function.<locals>.predict_function at 0x12e5cd090> and will run it as-is.\n",
            "Cause: Unable to locate the source code of <function Model.make_predict_function.<locals>.predict_function at 0x12e5cd090>. Note that functions defined in certain environments, like the interactive Python shell, do not expose their source code. If that is the case, you should define them in a .py source file. If you are certain the code is graph-compatible, wrap the call using @tf.autograph.experimental.do_not_convert. Original error: could not get source code\n",
            "To silence this warning, decorate the function with @tf.autograph.experimental.do_not_convert\n",
            "WARNING: AutoGraph could not transform <function Model.make_predict_function.<locals>.predict_function at 0x12e5cd090> and will run it as-is.\n",
            "Cause: Unable to locate the source code of <function Model.make_predict_function.<locals>.predict_function at 0x12e5cd090>. Note that functions defined in certain environments, like the interactive Python shell, do not expose their source code. If that is the case, you should define them in a .py source file. If you are certain the code is graph-compatible, wrap the call using @tf.autograph.experimental.do_not_convert. Original error: could not get source code\n",
            "To silence this warning, decorate the function with @tf.autograph.experimental.do_not_convert\n",
            "1/1 [==============================] - 1s 898ms/step\n",
            "[[2 0 0 0]\n",
            " [0 0 0 2]\n",
            " [0 0 0 2]\n",
            " [0 0 0 2]]\n",
            "WARNING:tensorflow:AutoGraph could not transform <function Model.make_test_function.<locals>.test_function at 0x12e729000> and will run it as-is.\n",
            "Cause: Unable to locate the source code of <function Model.make_test_function.<locals>.test_function at 0x12e729000>. Note that functions defined in certain environments, like the interactive Python shell, do not expose their source code. If that is the case, you should define them in a .py source file. If you are certain the code is graph-compatible, wrap the call using @tf.autograph.experimental.do_not_convert. Original error: could not get source code\n",
            "To silence this warning, decorate the function with @tf.autograph.experimental.do_not_convert\n",
            "WARNING: AutoGraph could not transform <function Model.make_test_function.<locals>.test_function at 0x12e729000> and will run it as-is.\n",
            "Cause: Unable to locate the source code of <function Model.make_test_function.<locals>.test_function at 0x12e729000>. Note that functions defined in certain environments, like the interactive Python shell, do not expose their source code. If that is the case, you should define them in a .py source file. If you are certain the code is graph-compatible, wrap the call using @tf.autograph.experimental.do_not_convert. Original error: could not get source code\n",
            "To silence this warning, decorate the function with @tf.autograph.experimental.do_not_convert\n",
            "0.5\n"
          ]
        }
      ],
      "source": [
        "from sklearn.metrics import confusion_matrix\n",
        "\n",
        "model = tf.keras.models.Sequential()\n",
        "model.add(tf.keras.layers.LSTM(248, input_shape=(trainx.shape[1],trainx.shape[2])))\n",
        "model.add(tf.keras.layers.Dropout(0.5))\n",
        "model.add(tf.keras.layers.Dense(248, activation='relu'))\n",
        "model.add(tf.keras.layers.Dense(trainy.shape[1], activation='softmax'))\n",
        "model.compile(loss='categorical_crossentropy', optimizer=tf.keras.optimizers.legacy.Adam(learning_rate=0.0001), metrics=['accuracy'])\n",
        "verbose, epochs, batch_size = 0, 30, 64\n",
        "\n",
        "model.fit(trainx, trainy, epochs=epochs, batch_size=batch_size, verbose=verbose)\n",
        "\n",
        "predictions = model.predict(testx)\n",
        "predicted_labels = np.argmax(predictions, axis=1)\n",
        "true_labels = np.argmax(testy, axis=1)\n",
        "\n",
        "cm = confusion_matrix(true_labels, predicted_labels)\n",
        "print(cm)\n",
        "_, accuracy = model.evaluate(testx, testy, batch_size=batch_size, verbose=0)\n",
        "print(accuracy)"
      ]
    },
    {
      "cell_type": "code",
      "execution_count": null,
      "metadata": {},
      "outputs": [],
      "source": []
    }
  ],
  "metadata": {
    "colab": {
      "provenance": []
    },
    "kernelspec": {
      "display_name": "base",
      "language": "python",
      "name": "python3"
    },
    "language_info": {
      "codemirror_mode": {
        "name": "ipython",
        "version": 3
      },
      "file_extension": ".py",
      "mimetype": "text/x-python",
      "name": "python",
      "nbconvert_exporter": "python",
      "pygments_lexer": "ipython3",
      "version": "3.10.7"
    }
  },
  "nbformat": 4,
  "nbformat_minor": 0
}
