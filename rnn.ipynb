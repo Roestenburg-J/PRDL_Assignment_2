{
 "cells": [
  {
   "cell_type": "code",
   "execution_count": null,
   "metadata": {},
   "outputs": [],
   "source": [
    "import h5py\n",
    "from sklearn.preprocessing import MinMaxScaler\n",
    "import pandas as pd\n",
    "import matplotlib.pyplot as plt\n",
    "import numpy as np\n",
    "import os"
   ]
  },
  {
   "cell_type": "code",
   "execution_count": null,
   "metadata": {},
   "outputs": [],
   "source": [
    "def getdatasetname(file_name_with_dir):\n",
    "    filename_without_dir = file_name_with_dir.split(\"/\")[-1]\n",
    "    temp = filename_without_dir.split(\"_\")[:-1]\n",
    "    datasetname = \"_\".join(temp)\n",
    "    return datasetname"
   ]
  },
  {
   "cell_type": "code",
   "execution_count": null,
   "metadata": {},
   "outputs": [],
   "source": [
    "def get_label(filename):\n",
    "    if \"rest\" in filename:\n",
    "        label = 0\n",
    "    elif \"math\" in filename:\n",
    "        label = 1\n",
    "    elif \"memory\" in filename:\n",
    "        label = 2\n",
    "    elif \"motor\" in filename:\n",
    "        label = 3\n",
    "    return label"
   ]
  },
  {
   "cell_type": "code",
   "execution_count": null,
   "metadata": {},
   "outputs": [],
   "source": [
    "def get_all_matrices(dir_path):\n",
    "    dataset = []\n",
    "    labels = []\n",
    "    for filename in os.listdir(dir_path):\n",
    "        if filename.endswith(\".h5\"):\n",
    "            filename_path = dir_path + filename\n",
    "            with h5py.File(filename_path, \"r\") as f:\n",
    "                dataset_name = getdatasetname(filename_path)\n",
    "                label = get_label(filename)\n",
    "                matrix = f.get(dataset_name)[()]\n",
    "                dataset.append(matrix)\n",
    "                labels.append(label)\n",
    "\n",
    "    return dataset, labels"
   ]
  },
  {
   "cell_type": "code",
   "execution_count": null,
   "metadata": {},
   "outputs": [],
   "source": [
    "def scale(matrix):\n",
    "    scaler = MinMaxScaler(feature_range=(0, 1))\n",
    "    scaler.fit(matrix)\n",
    "    scaled_data = scaler.transform(matrix)\n",
    "    return scaled_data"
   ]
  },
  {
   "cell_type": "code",
   "execution_count": null,
   "metadata": {},
   "outputs": [],
   "source": [
    "def donwsample(dataset, frequency):\n",
    "    downsampled_dataset = []\n",
    "\n",
    "    for i in range(0, dataset.shape[1], 2034):\n",
    "        second = dataset[:, i : i + 2034]\n",
    "        subsample = []\n",
    "\n",
    "        for j in range(0, 2034, int(2034 / frequency)):\n",
    "            if j < second.shape[1]:\n",
    "                measurement = second[:, j]\n",
    "                subsample.append(measurement)\n",
    "\n",
    "        downsampled_dataset.extend(subsample)\n",
    "\n",
    "    return np.array(downsampled_dataset).T"
   ]
  },
  {
   "cell_type": "code",
   "execution_count": null,
   "metadata": {},
   "outputs": [],
   "source": [
    "filename_path = \"./data/Intra/train/rest_105923_1.h5\"\n",
    "with h5py.File(filename_path, \"r\") as f:\n",
    "    dataset_name = getdatasetname(filename_path)\n",
    "    matrix = f.get(dataset_name)[()]\n",
    "    print(type(matrix))\n",
    "    print(matrix.shape)"
   ]
  },
  {
   "cell_type": "code",
   "execution_count": null,
   "metadata": {},
   "outputs": [],
   "source": [
    "dataset = get_all_matrices(dir_path)[0]\n",
    "# subjects x sensors x time\n",
    "dataset_X = np.stack(dataset)\n",
    "labels = get_all_matrices(dir_path)[1]"
   ]
  },
  {
   "cell_type": "markdown",
   "metadata": {},
   "source": [
    "### Data Pipeline\n",
    "\n",
    "1. Get dataset\n",
    "2. Downsample data\n",
    "3. Scale Data\n",
    "4. Train Model\n"
   ]
  },
  {
   "cell_type": "markdown",
   "metadata": {},
   "source": [
    "Model setup\n"
   ]
  },
  {
   "cell_type": "code",
   "execution_count": null,
   "metadata": {},
   "outputs": [],
   "source": []
  }
 ],
 "metadata": {
  "kernelspec": {
   "display_name": "base",
   "language": "python",
   "name": "python3"
  },
  "language_info": {
   "name": "python",
   "version": "3.11.5"
  }
 },
 "nbformat": 4,
 "nbformat_minor": 2
}
